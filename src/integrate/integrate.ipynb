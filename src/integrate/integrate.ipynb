{
 "cells": [
  {
   "cell_type": "markdown",
   "metadata": {},
   "source": [
    "# Integração\n",
    "\n",
    "* Verificar `parse.ipynb` antes para instruções\n",
    "\n",
    "* Une datasets pelo critério de distância mínima:\n",
    "    1. Para cada ponto de tempetura, obtém a sua data e encontra todos os pontos de $CO_2$ nessa mesma data;\n",
    "    2. Calcula a distância entre o ponto de temperatura e todos os outros pontos de $CO_2$ anteriormente selecionados;\n",
    "    3. Escolhe aquele de mínima distância como o ponto equivalente entre os *datasets*.\n",
    "\n",
    "<br />\n",
    "\n",
    "* Cálculo da distância:\n",
    "    * ✔️ **Abordagem 1:** plana — $d(P_1, P_2) = \\sqrt{(x_1-x_2)^2 + (y_1-y_2)^2}$\n",
    "    * ❓ **Abordagem 2:** esférica — Faz sentido? É necessária? Como fazer?\n",
    "\n",
    "<br />\n",
    "\n",
    "* Sobre a implementação:\n",
    "    * Não encontrei uma forma direta e elegante para fazer a integração apenas através da API do PySpark, então optei por apelar ao SQL 🙏;\n",
    "    * A título de exploração, foi feita uma integração utilizando `CROSS JOIN` e aplicando à risca o método;\n",
    "        * Tal alternativa é inviável, haja vista que geraria registros numa ordem de grandeza de $10^{6 + 8}$.\n",
    "    * A título de usababilidade, foi feita a integração utilizando `LEFT JOIN` e `ROUND`, que possui o exato mesmo *result set* da alternativa precedente."
   ]
  },
  {
   "cell_type": "markdown",
   "metadata": {},
   "source": [
    "# Bibliotecas e Configurações"
   ]
  },
  {
   "cell_type": "code",
   "execution_count": 1,
   "metadata": {},
   "outputs": [],
   "source": [
    "from time import time"
   ]
  },
  {
   "cell_type": "code",
   "execution_count": 2,
   "metadata": {},
   "outputs": [],
   "source": [
    "from pyspark.sql import SparkSession\n",
    "\n",
    "spark = SparkSession.builder.config(\n",
    "        \"spark.jars.packages\",\n",
    "        \"io.xskipper:xskipper-core_2.12:1.3.0\"\n",
    ").getOrCreate()"
   ]
  },
  {
   "cell_type": "code",
   "execution_count": 3,
   "metadata": {},
   "outputs": [],
   "source": [
    "from xskipper import Xskipper"
   ]
  },
  {
   "cell_type": "code",
   "execution_count": 4,
   "metadata": {},
   "outputs": [],
   "source": [
    "metadata_path = \"./tmp/metadata\"\n",
    "\n",
    "config = dict([\n",
    "    (\"io.xskipper.parquet.mdlocation\", metadata_path),\n",
    "    (\"io.xskipper.parquet.mdlocation.type\", \"EXPLICIT_BASE_PATH_LOCATION\")\n",
    "])\n",
    "\n",
    "Xskipper.setConf(spark, config)"
   ]
  },
  {
   "cell_type": "markdown",
   "metadata": {},
   "source": [
    "# Leitura"
   ]
  },
  {
   "cell_type": "code",
   "execution_count": 5,
   "metadata": {},
   "outputs": [],
   "source": [
    "tpr_parsed_path = './data/tpr_data_parsed.csv'\n",
    "co2_parsed_path = './data/co2_data_parsed.csv'\n",
    "\n",
    "tpr_reader = spark.read.options(header='True').format(\"csv\")\n",
    "co2_reader = spark.read.options(header='True').format(\"csv\")\n",
    "\n",
    "tpr_data = tpr_reader.load(tpr_parsed_path)\n",
    "co2_data = co2_reader.load(co2_parsed_path)"
   ]
  },
  {
   "cell_type": "code",
   "execution_count": 6,
   "metadata": {},
   "outputs": [
    {
     "name": "stdout",
     "output_type": "stream",
     "text": [
      "+-------+-----------------+-------------------+\n",
      "|status |new_entries_added|old_entries_removed|\n",
      "+-------+-----------------+-------------------+\n",
      "|SUCCESS|1                |0                  |\n",
      "+-------+-----------------+-------------------+\n",
      "\n"
     ]
    }
   ],
   "source": [
    "tpr_xskipper = Xskipper(spark, tpr_parsed_path)\n",
    "\n",
    "if tpr_xskipper.isIndexed(): tpr_xskipper.dropIndex()\n",
    "\n",
    "tpr_xskipper.indexBuilder()                     \\\n",
    "            .addValueListIndex(\"t_date\")      \\\n",
    "            .addValueListIndex(\"t_longitude\") \\\n",
    "            .addValueListIndex(\"t_latitude\")  \\\n",
    "            .build(tpr_reader)                  \\\n",
    "            .show(10, False)"
   ]
  },
  {
   "cell_type": "code",
   "execution_count": 7,
   "metadata": {},
   "outputs": [
    {
     "name": "stdout",
     "output_type": "stream",
     "text": [
      "+-------+-----------------+-------------------+\n",
      "|status |new_entries_added|old_entries_removed|\n",
      "+-------+-----------------+-------------------+\n",
      "|SUCCESS|1                |0                  |\n",
      "+-------+-----------------+-------------------+\n",
      "\n"
     ]
    }
   ],
   "source": [
    "co2_xskipper = Xskipper(spark, co2_parsed_path)\n",
    "\n",
    "if co2_xskipper.isIndexed(): co2_xskipper.dropIndex()\n",
    "\n",
    "co2_xskipper.indexBuilder()                     \\\n",
    "            .addValueListIndex(\"c_date\")      \\\n",
    "            .addValueListIndex(\"c_longitude\") \\\n",
    "            .addValueListIndex(\"c_latitude\")  \\\n",
    "            .build(co2_reader)                  \\\n",
    "            .show(10, False)"
   ]
  },
  {
   "cell_type": "markdown",
   "metadata": {},
   "source": [
    "# Testes de desempenho"
   ]
  },
  {
   "cell_type": "markdown",
   "metadata": {},
   "source": [
    "## Query ❌ | Skipper ❌"
   ]
  },
  {
   "cell_type": "code",
   "execution_count": 8,
   "metadata": {},
   "outputs": [],
   "source": [
    "if Xskipper.isEnabled(spark): Xskipper.disable(spark)"
   ]
  },
  {
   "cell_type": "code",
   "execution_count": 9,
   "metadata": {},
   "outputs": [],
   "source": [
    "tpr_data.limit(int(1e3)).createOrReplaceTempView(\"tpr_data\")\n",
    "co2_data.limit(int(1e5)).createOrReplaceTempView(\"co2_data\")"
   ]
  },
  {
   "cell_type": "code",
   "execution_count": 10,
   "metadata": {},
   "outputs": [],
   "source": [
    "# Raw query de integralização\n",
    "\n",
    "cross_data = spark.sql(\n",
    "    \"\"\"\n",
    "    SELECT *\n",
    "    FROM (\n",
    "        -- Ordenação crescente das distâncias,\n",
    "        -- orientado a data, latitude e longitude\n",
    "        SELECT\n",
    "            *,\n",
    "            ROW_NUMBER() OVER (\n",
    "                PARTITION BY\n",
    "                    t_date,\n",
    "                    t_latitude,\n",
    "                    t_longitude\n",
    "                ORDER BY distance ASC\n",
    "            ) AS row_num\n",
    "        FROM (\n",
    "            -- CROSS JOIN para cálculo de distâncias entre\n",
    "            -- todos os pontos dos datasets em uma mesma data\n",
    "            SELECT\n",
    "                *,\n",
    "                SQRT(POW(t_latitude - c_latitude, 2) + POW(t_longitude - c_longitude, 2)) AS distance\n",
    "            FROM tpr_data AS T\n",
    "            CROSS JOIN co2_data AS C\n",
    "            ON t_date = c_date\n",
    "        )\n",
    "    )\n",
    "    WHERE row_num = 1; -- Escolha dos registros com menor distância\n",
    "    \"\"\"\n",
    ")"
   ]
  },
  {
   "cell_type": "code",
   "execution_count": 11,
   "metadata": {},
   "outputs": [
    {
     "name": "stdout",
     "output_type": "stream",
     "text": [
      "+----------+-------------+-----------------+------+---------+----------+-----------+--------------+---------------+----------+----------+-----------+-----------------+-------------------+-------+\n",
      "|    t_date|t_temperature|t_temperature_unc|t_city|t_country|t_latitude|t_longitude|t_latitude_rnd|t_longitude_rnd|    c_date|c_latitude|c_longitude|            c_co2|           distance|row_num|\n",
      "+----------+-------------+-----------------+------+---------+----------+-----------+--------------+---------------+----------+----------+-----------+-----------------+-------------------+-------+\n",
      "|1850-01-01|       -5.265|             1.82| Århus|  Denmark|     57.05|      10.33|            57|             10|1850-01-01|        57|         10|285.5076904296875|0.33376638536557235|      1|\n",
      "|1850-02-01|        1.859|            1.641| Århus|  Denmark|     57.05|      10.33|            57|             10|1850-02-01|        57|         10|286.4536437988281|0.33376638536557235|      1|\n",
      "+----------+-------------+-----------------+------+---------+----------+-----------+--------------+---------------+----------+----------+-----------+-----------------+-------------------+-------+\n",
      "\n",
      "Tempo decorrido: 4.846821308135986 s\n"
     ]
    }
   ],
   "source": [
    "t_start = time()\n",
    "cross_data.show(10)\n",
    "t_stop = time()\n",
    "print('Tempo decorrido:', t_stop-t_start, 's')\n"
   ]
  },
  {
   "cell_type": "markdown",
   "metadata": {},
   "source": [
    "## Query ✔️ | Skipper ❌"
   ]
  },
  {
   "cell_type": "code",
   "execution_count": 12,
   "metadata": {},
   "outputs": [],
   "source": [
    "if Xskipper.isEnabled(spark): Xskipper.disable(spark)"
   ]
  },
  {
   "cell_type": "code",
   "execution_count": 13,
   "metadata": {},
   "outputs": [],
   "source": [
    "tpr_data.limit(int(1e3)).createOrReplaceTempView(\"tpr_data\")\n",
    "co2_data.limit(int(1e5)).createOrReplaceTempView(\"co2_data\")"
   ]
  },
  {
   "cell_type": "code",
   "execution_count": 14,
   "metadata": {},
   "outputs": [],
   "source": [
    "# Raw query de integralização\n",
    "\n",
    "cross_data = spark.sql(\n",
    "    \"\"\"\n",
    "    SELECT *\n",
    "    FROM tpr_data\n",
    "    LEFT JOIN co2_data\n",
    "    ON\n",
    "        t_date = c_date AND\n",
    "        t_latitude_rnd = c_latitude AND\n",
    "        t_longitude_rnd = c_longitude;\n",
    "    \"\"\"\n",
    ")"
   ]
  },
  {
   "cell_type": "code",
   "execution_count": 15,
   "metadata": {},
   "outputs": [
    {
     "name": "stdout",
     "output_type": "stream",
     "text": [
      "+----------+--------------------+------------------+------+---------+----------+-----------+--------------+---------------+----------+----------+-----------+-----------------+\n",
      "|    t_date|       t_temperature| t_temperature_unc|t_city|t_country|t_latitude|t_longitude|t_latitude_rnd|t_longitude_rnd|    c_date|c_latitude|c_longitude|            c_co2|\n",
      "+----------+--------------------+------------------+------+---------+----------+-----------+--------------+---------------+----------+----------+-----------+-----------------+\n",
      "|1850-01-01|              -5.265|              1.82| Århus|  Denmark|     57.05|      10.33|            57|             10|1850-01-01|        57|         10|285.5076904296875|\n",
      "|1850-02-01|               1.859|             1.641| Århus|  Denmark|     57.05|      10.33|            57|             10|1850-02-01|        57|         10|286.4536437988281|\n",
      "|1850-03-01|0.031999999999999806|             3.167| Århus|  Denmark|     57.05|      10.33|            57|             10|      null|      null|       null|             null|\n",
      "|1850-04-01|  5.7639999999999985|             1.903| Århus|  Denmark|     57.05|      10.33|            57|             10|      null|      null|       null|             null|\n",
      "|1850-05-01|              11.037|             0.586| Århus|  Denmark|     57.05|      10.33|            57|             10|      null|      null|       null|             null|\n",
      "|1850-06-01|              15.299|             1.023| Århus|  Denmark|     57.05|      10.33|            57|             10|      null|      null|       null|             null|\n",
      "|1850-07-01|              16.832|             1.026| Århus|  Denmark|     57.05|      10.33|            57|             10|      null|      null|       null|             null|\n",
      "|1850-08-01|               16.07|1.1440000000000001| Århus|  Denmark|     57.05|      10.33|            57|             10|      null|      null|       null|             null|\n",
      "|1850-09-01|              11.837|             0.988| Århus|  Denmark|     57.05|      10.33|            57|             10|      null|      null|       null|             null|\n",
      "|1850-10-01|               6.424|             1.008| Århus|  Denmark|     57.05|      10.33|            57|             10|      null|      null|       null|             null|\n",
      "+----------+--------------------+------------------+------+---------+----------+-----------+--------------+---------------+----------+----------+-----------+-----------------+\n",
      "only showing top 10 rows\n",
      "\n",
      "Tempo decorrido: 3.6984760761260986 s\n"
     ]
    }
   ],
   "source": [
    "t_start = time()\n",
    "cross_data.show(10)\n",
    "t_stop = time()\n",
    "print('Tempo decorrido:', t_stop-t_start, 's')\n"
   ]
  },
  {
   "cell_type": "markdown",
   "metadata": {},
   "source": [
    "## Query ✔️ | Skipper ✔️"
   ]
  },
  {
   "cell_type": "code",
   "execution_count": 16,
   "metadata": {},
   "outputs": [],
   "source": [
    "if not Xskipper.isEnabled(spark): Xskipper.enable(spark)"
   ]
  },
  {
   "cell_type": "code",
   "execution_count": 17,
   "metadata": {},
   "outputs": [],
   "source": [
    "tpr_data.limit(int(1e3)).createOrReplaceTempView(\"tpr_data\")\n",
    "co2_data.limit(int(1e5)).createOrReplaceTempView(\"co2_data\")"
   ]
  },
  {
   "cell_type": "code",
   "execution_count": 18,
   "metadata": {},
   "outputs": [],
   "source": [
    "# Raw query de integralização\n",
    "\n",
    "cross_data = spark.sql(\n",
    "    \"\"\"\n",
    "    SELECT *\n",
    "    FROM tpr_data\n",
    "    LEFT JOIN co2_data\n",
    "    ON\n",
    "        t_date = c_date AND\n",
    "        t_latitude_rnd = c_latitude AND\n",
    "        t_longitude_rnd = c_longitude;\n",
    "    \"\"\"\n",
    ")"
   ]
  },
  {
   "cell_type": "code",
   "execution_count": 19,
   "metadata": {},
   "outputs": [
    {
     "name": "stdout",
     "output_type": "stream",
     "text": [
      "+----------+--------------------+------------------+------+---------+----------+-----------+--------------+---------------+----------+----------+-----------+-----------------+\n",
      "|    t_date|       t_temperature| t_temperature_unc|t_city|t_country|t_latitude|t_longitude|t_latitude_rnd|t_longitude_rnd|    c_date|c_latitude|c_longitude|            c_co2|\n",
      "+----------+--------------------+------------------+------+---------+----------+-----------+--------------+---------------+----------+----------+-----------+-----------------+\n",
      "|1850-01-01|              -5.265|              1.82| Århus|  Denmark|     57.05|      10.33|            57|             10|1850-01-01|        57|         10|285.5076904296875|\n",
      "|1850-02-01|               1.859|             1.641| Århus|  Denmark|     57.05|      10.33|            57|             10|1850-02-01|        57|         10|286.4536437988281|\n",
      "|1850-03-01|0.031999999999999806|             3.167| Århus|  Denmark|     57.05|      10.33|            57|             10|      null|      null|       null|             null|\n",
      "|1850-04-01|  5.7639999999999985|             1.903| Århus|  Denmark|     57.05|      10.33|            57|             10|      null|      null|       null|             null|\n",
      "|1850-05-01|              11.037|             0.586| Århus|  Denmark|     57.05|      10.33|            57|             10|      null|      null|       null|             null|\n",
      "|1850-06-01|              15.299|             1.023| Århus|  Denmark|     57.05|      10.33|            57|             10|      null|      null|       null|             null|\n",
      "|1850-07-01|              16.832|             1.026| Århus|  Denmark|     57.05|      10.33|            57|             10|      null|      null|       null|             null|\n",
      "|1850-08-01|               16.07|1.1440000000000001| Århus|  Denmark|     57.05|      10.33|            57|             10|      null|      null|       null|             null|\n",
      "|1850-09-01|              11.837|             0.988| Århus|  Denmark|     57.05|      10.33|            57|             10|      null|      null|       null|             null|\n",
      "|1850-10-01|               6.424|             1.008| Århus|  Denmark|     57.05|      10.33|            57|             10|      null|      null|       null|             null|\n",
      "+----------+--------------------+------------------+------+---------+----------+-----------+--------------+---------------+----------+----------+-----------+-----------------+\n",
      "only showing top 10 rows\n",
      "\n",
      "Tempo decorrido: 3.64229154586792 s\n"
     ]
    }
   ],
   "source": [
    "t_start = time()\n",
    "cross_data.show(10)\n",
    "t_stop = time()\n",
    "print('Tempo decorrido:', t_stop-t_start, 's')"
   ]
  },
  {
   "cell_type": "markdown",
   "metadata": {},
   "source": [
    "# Simulação"
   ]
  },
  {
   "cell_type": "code",
   "execution_count": 20,
   "metadata": {},
   "outputs": [],
   "source": [
    "# times = []\n",
    "\n",
    "# for i in [1, 10, 100, 1000]:\n",
    "#     if not Xskipper.isEnabled(spark): Xskipper.enable(spark)\n",
    "\n",
    "#     tpr_data.limit(i).createOrReplaceTempView(\"tpr_data\")\n",
    "#     co2_data.createOrReplaceTempView(\"co2_data\")\n",
    "\n",
    "#     cross_data = spark.sql(\n",
    "#         \"\"\"\n",
    "#         SELECT\n",
    "#             t_date AS date,\n",
    "#             t_temperature AS temperature,\n",
    "#             t_temperature_unc AS temperature_unc,\n",
    "#             t_city AS city,\n",
    "#             t_country AS country,\n",
    "#             t_latitude AS latitude,\n",
    "#             t_longitude AS longitude,\n",
    "#             c_co2 AS co2\n",
    "#         FROM tpr_data\n",
    "#         LEFT JOIN co2_data\n",
    "#         ON\n",
    "#             t_date = c_date AND\n",
    "#             t_latitude_rnd = c_latitude AND\n",
    "#             t_longitude_rnd = c_longitude;\n",
    "#         \"\"\"\n",
    "#     )\n",
    "\n",
    "#     t_start = time()\n",
    "#     cross_data.show(20)\n",
    "#     t_stop = time()\n",
    "#     times.append(t_stop - t_start)\n",
    "\n",
    "#     print(f'Simulação com {i} registros finalizada.')\n",
    "#     print(times)\n",
    "#     print()"
   ]
  },
  {
   "cell_type": "code",
   "execution_count": 21,
   "metadata": {},
   "outputs": [],
   "source": [
    "\n",
    "if not Xskipper.isEnabled(spark): Xskipper.enable(spark)\n",
    "\n",
    "tpr_data.createOrReplaceTempView(\"tpr_data\")\n",
    "co2_data.createOrReplaceTempView(\"co2_data\")\n",
    "\n",
    "cross_data = spark.sql(\n",
    "    \"\"\"\n",
    "    SELECT\n",
    "        t_date AS date,\n",
    "        t_temperature AS temperature,\n",
    "        t_temperature_unc AS temperature_unc,\n",
    "        t_city AS city,\n",
    "        t_country AS country,\n",
    "        t_latitude AS latitude,\n",
    "        t_longitude AS longitude,\n",
    "        c_co2 AS co2\n",
    "    FROM tpr_data\n",
    "    LEFT JOIN co2_data\n",
    "    ON\n",
    "        t_date = c_date AND\n",
    "        t_latitude_rnd = c_latitude AND\n",
    "        t_longitude_rnd = c_longitude;\n",
    "    \"\"\"\n",
    ")\n"
   ]
  },
  {
   "cell_type": "code",
   "execution_count": 22,
   "metadata": {},
   "outputs": [],
   "source": [
    "cross_data.coalesce(1).write.format('csv').option('header', True).mode('overwrite').save('./out/final')"
   ]
  }
 ],
 "metadata": {
  "kernelspec": {
   "display_name": "Python 3.9.10 ('env': venv)",
   "language": "python",
   "name": "python3"
  },
  "language_info": {
   "codemirror_mode": {
    "name": "ipython",
    "version": 3
   },
   "file_extension": ".py",
   "mimetype": "text/x-python",
   "name": "python",
   "nbconvert_exporter": "python",
   "pygments_lexer": "ipython3",
   "version": "3.9.10"
  },
  "orig_nbformat": 4,
  "vscode": {
   "interpreter": {
    "hash": "07d19eb70bcfc2f0213fb2cc4f0e2b7647738b1a23b2bbd4e03e9ce97554aed1"
   }
  }
 },
 "nbformat": 4,
 "nbformat_minor": 2
}
