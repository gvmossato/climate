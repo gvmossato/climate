{
 "cells": [
  {
   "cell_type": "markdown",
   "metadata": {},
   "source": [
    "# Bibliotecas e Configurações\n",
    "\n",
    "1. Requer:\n",
    "    * `./data/GlobalLandTemperaturesByCity.csv`;\n",
    "    * `./data/co2_data.csv` ou `./out/co2_data.csv`.\n",
    "\n",
    "<br />\n",
    "\n",
    "2. É necessário possuir o **Java SE Development Kit** (JDK) instalado;\n",
    "    * Possivel baixar através desse *[link](https://www.oracle.com/br/java/technologies/downloads/)*\n",
    "\n",
    "<br />\n",
    "\n",
    "3. Além disso, é necessário definir a variável de ambiente `JAVA_HOME` cujo valor é o diretório de instalação do JDK;\n",
    "    * Exemplo: `C:\\Progra~1\\Java\\jdk-19`;\n",
    "    * Em que `Progra~1` é, na verdade, a pasta `Program Files`.\n",
    "\n",
    "<br />\n",
    "\n",
    "4. Definir também as variáveis de ambiente:\n",
    "    * `PYSPARK_DRIVER_PYTHON` = `jupyter`;\n",
    "    * `PYSPARK_PYTHON` = `python`.\n",
    "\n",
    "<br />\n",
    "\n",
    "5. Provavelmente será necessário reiniciar o computador após definir essas variáveis de ambiente.\n",
    "    * Há abaixo uma verificação para atestar se foi possível lê-las."
   ]
  },
  {
   "cell_type": "code",
   "execution_count": 1,
   "metadata": {},
   "outputs": [],
   "source": [
    "import os\n",
    "\n",
    "from pyspark.sql import SparkSession\n",
    "from pyspark.sql.functions import expr\n",
    "from pyspark.sql.utils import AnalysisException"
   ]
  },
  {
   "cell_type": "code",
   "execution_count": 2,
   "metadata": {},
   "outputs": [],
   "source": [
    "environ_vars = ['JAVA_HOME', 'PYSPARK_DRIVER_PYTHON', 'PYSPARK_PYTHON']\n",
    "\n",
    "for var in environ_vars:\n",
    "    if not os.environ.get(var):\n",
    "        print(f'AVISO: Variável {var} não encontrada.')"
   ]
  },
  {
   "cell_type": "markdown",
   "metadata": {},
   "source": [
    "# Leitura"
   ]
  },
  {
   "cell_type": "code",
   "execution_count": 3,
   "metadata": {},
   "outputs": [],
   "source": [
    "spark = SparkSession.builder.getOrCreate()\n",
    "\n",
    "tpr_data = spark.read.options(header='True').csv('./data/GlobalLandTemperaturesByCity.csv')\n",
    "\n",
    "try: \n",
    "    co2_data = spark.read.options(header='True').csv('./out/co2_data.csv')\n",
    "except AnalysisException:\n",
    "    co2_data = spark.read.options(header='True').csv('./data/co2_data.csv')"
   ]
  },
  {
   "cell_type": "code",
   "execution_count": 4,
   "metadata": {},
   "outputs": [
    {
     "name": "stdout",
     "output_type": "stream",
     "text": [
      "+----------+------------------+-----------------------------+-----+-------+--------+---------+\n",
      "|        dt|AverageTemperature|AverageTemperatureUncertainty| City|Country|Latitude|Longitude|\n",
      "+----------+------------------+-----------------------------+-----+-------+--------+---------+\n",
      "|1743-11-01|             6.068|           1.7369999999999999|Århus|Denmark|  57.05N|   10.33E|\n",
      "|1743-12-01|              null|                         null|Århus|Denmark|  57.05N|   10.33E|\n",
      "|1744-01-01|              null|                         null|Århus|Denmark|  57.05N|   10.33E|\n",
      "|1744-02-01|              null|                         null|Århus|Denmark|  57.05N|   10.33E|\n",
      "|1744-03-01|              null|                         null|Århus|Denmark|  57.05N|   10.33E|\n",
      "+----------+------------------+-----------------------------+-----+-------+--------+---------+\n",
      "only showing top 5 rows\n",
      "\n"
     ]
    }
   ],
   "source": [
    "tpr_data.show(5)"
   ]
  },
  {
   "cell_type": "markdown",
   "metadata": {},
   "source": [
    "*Dataset* de temperaturas:\n",
    "\n",
    "* `dt` (string): data da amostra;\n",
    "* `AverageTemperature` (float): temperatura média medida;\n",
    "* `AverageTemperatureUncertainty` (float): incerteza associada a temperatura medida;\n",
    "* `City` (string): cidade de origem da amostra;\n",
    "* `Country` (string): país de origem da amostra;\n",
    "* `Latitude` (string): graus de latitude norte da amostra;\n",
    "* `Longitude` (string):  graus de longitude leste da amostra;"
   ]
  },
  {
   "cell_type": "code",
   "execution_count": 5,
   "metadata": {},
   "outputs": [
    {
     "name": "stdout",
     "output_type": "stream",
     "text": [
      "+----------+------+------+-----------------+\n",
      "|     Times|LatDim|LonDim|            value|\n",
      "+----------+------+------+-----------------+\n",
      "|1850-01-01|     0|     0|288.1340637207031|\n",
      "|1850-01-01|     0|     1|288.1340637207031|\n",
      "|1850-01-01|     0|     2|288.1340637207031|\n",
      "|1850-01-01|     0|     3|288.1340637207031|\n",
      "|1850-01-01|     0|     4|288.1340637207031|\n",
      "+----------+------+------+-----------------+\n",
      "only showing top 5 rows\n",
      "\n"
     ]
    }
   ],
   "source": [
    "co2_data.show(5)"
   ]
  },
  {
   "cell_type": "markdown",
   "metadata": {},
   "source": [
    "*Dataset* de temperaturas:\n",
    "\n",
    "* `Times` (string): data da amostra;\n",
    "* `LatDim` (int): graus de latitude norte da amostra;\n",
    "* `LonDim` (int): graus de longitude leste da amostra;\n",
    "* `value` (float): concentração de $CO_2$ em ppm;"
   ]
  },
  {
   "cell_type": "markdown",
   "metadata": {},
   "source": [
    "# Tratamento\n",
    "\n",
    "* Define uma mesma data de início para ambos os datasets\n",
    "* Realiza correção de tipos de dados e padroniza colunas"
   ]
  },
  {
   "cell_type": "code",
   "execution_count": 6,
   "metadata": {},
   "outputs": [],
   "source": [
    "# Padroniza datasets iniciando em 1850-01-01\n",
    "tpr_data = tpr_data[tpr_data['dt'] >= '1850-01-01']"
   ]
  },
  {
   "cell_type": "code",
   "execution_count": 7,
   "metadata": {},
   "outputs": [],
   "source": [
    "# Padroniza nomes de colunas entre datasets\n",
    "\n",
    "trp_columns_rename = [\n",
    "    ('dt', 't_date'),\n",
    "    ('AverageTemperature', 't_temperature'),\n",
    "    ('AverageTemperatureUncertainty', 't_temperature_unc'),\n",
    "    ('City', 't_city'),\n",
    "    ('Country', 't_country'),\n",
    "    ('Latitude', 't_latitude'),\n",
    "    ('Longitude', 't_longitude'),\n",
    "]\n",
    "\n",
    "co2_columns_rename = [\n",
    "    ('Times', 'c_date'),\n",
    "    ('LatDim', 'c_latitude'),\n",
    "    ('LonDim', 'c_longitude'),\n",
    "    ('value', 'c_co2'),\n",
    "]\n",
    "\n",
    "for old, new in trp_columns_rename:\n",
    "    tpr_data = tpr_data.withColumnRenamed(old, new)\n",
    "\n",
    "for old, new in co2_columns_rename:\n",
    "    co2_data = co2_data.withColumnRenamed(old, new)"
   ]
  },
  {
   "cell_type": "code",
   "execution_count": 8,
   "metadata": {},
   "outputs": [],
   "source": [
    "# Retira 'N' e 'E' do final dos valores de \n",
    "# latitude/longitude e converte para float\n",
    "\n",
    "to_strip = ['t_latitude', 't_longitude']\n",
    "\n",
    "for col in to_strip:\n",
    "    tpr_data = tpr_data.withColumn(\n",
    "        col,\n",
    "        expr(f\"float(substring({col}, 1, length({col})-1))\")\n",
    "    )"
   ]
  },
  {
   "cell_type": "code",
   "execution_count": 9,
   "metadata": {},
   "outputs": [
    {
     "name": "stdout",
     "output_type": "stream",
     "text": [
      "+----------+--------------------+-----------------+------+---------+----------+-----------+\n",
      "|    t_date|       t_temperature|t_temperature_unc|t_city|t_country|t_latitude|t_longitude|\n",
      "+----------+--------------------+-----------------+------+---------+----------+-----------+\n",
      "|1850-01-01|              -5.265|             1.82| Århus|  Denmark|     57.05|      10.33|\n",
      "|1850-02-01|               1.859|            1.641| Århus|  Denmark|     57.05|      10.33|\n",
      "|1850-03-01|0.031999999999999806|            3.167| Århus|  Denmark|     57.05|      10.33|\n",
      "|1850-04-01|  5.7639999999999985|            1.903| Århus|  Denmark|     57.05|      10.33|\n",
      "|1850-05-01|              11.037|            0.586| Århus|  Denmark|     57.05|      10.33|\n",
      "+----------+--------------------+-----------------+------+---------+----------+-----------+\n",
      "only showing top 5 rows\n",
      "\n"
     ]
    }
   ],
   "source": [
    "tpr_data.show(5)"
   ]
  },
  {
   "cell_type": "code",
   "execution_count": 10,
   "metadata": {},
   "outputs": [
    {
     "name": "stdout",
     "output_type": "stream",
     "text": [
      "+----------+----------+-----------+-----------------+\n",
      "|    c_date|c_latitude|c_longitude|            c_co2|\n",
      "+----------+----------+-----------+-----------------+\n",
      "|1850-01-01|         0|          0|288.1340637207031|\n",
      "|1850-01-01|         0|          1|288.1340637207031|\n",
      "|1850-01-01|         0|          2|288.1340637207031|\n",
      "|1850-01-01|         0|          3|288.1340637207031|\n",
      "|1850-01-01|         0|          4|288.1340637207031|\n",
      "+----------+----------+-----------+-----------------+\n",
      "only showing top 5 rows\n",
      "\n"
     ]
    }
   ],
   "source": [
    "co2_data.show(5)"
   ]
  },
  {
   "cell_type": "markdown",
   "metadata": {},
   "source": [
    "# Integralização\n",
    "\n",
    "* Une datasets pelo critério de distância mínima\n",
    "\n",
    "    1. Para cada ponto de tempetura, obtém a sua data e encontra todos os pontos de $CO_2$ nessa mesma data;\n",
    "    2. Calcula a distância entre o ponto de temperatura e todos os outros pontos de $CO_2$ anteriormente selecionados;\n",
    "    3. Escolhe aquele de mínima distância como o ponto equivalente entre os *datasets*.\n",
    "\n",
    "<br />\n",
    "\n",
    "* Cálculo da distância\n",
    "    * ✔️ **Abordagem 1:** plana — $d(P_1, P_2) = \\sqrt{(x_1-x_2)^2 + (y_1-y_2)^2}$\n",
    "    * ❓ **Abordagem 2:** esférica — Faz sentido? É necessária? Como fazer?\n",
    "\n",
    "<br />\n",
    "\n",
    "* Sobre a implementação\n",
    "    * Não encontrei uma forma direta e elegante para fazer a integração apenas através da API do PySpark, então optei por apelar ao SQL 🙏"
   ]
  },
  {
   "cell_type": "code",
   "execution_count": 11,
   "metadata": {},
   "outputs": [],
   "source": [
    "# Recorte ínfimo dos datasets apenas para validação\n",
    "\n",
    "tpr_data.limit(int(1e3)).createOrReplaceTempView(\"tpr_data\")\n",
    "co2_data.limit(int(1e5)).createOrReplaceTempView(\"co2_data\")"
   ]
  },
  {
   "cell_type": "code",
   "execution_count": 12,
   "metadata": {},
   "outputs": [],
   "source": [
    "# Raw query de integralização\n",
    "\n",
    "cross_data = spark.sql(\n",
    "    \"\"\"\n",
    "    SELECT *\n",
    "    FROM (\n",
    "        -- Ordenação crescente das distâncias,\n",
    "        -- orientado a data, latitude e longitude\n",
    "        SELECT\n",
    "            *,\n",
    "            ROW_NUMBER() OVER (\n",
    "                PARTITION BY\n",
    "                    t_date,\n",
    "                    t_latitude,\n",
    "                    t_longitude\n",
    "                ORDER BY distance ASC\n",
    "            ) AS row_num\n",
    "        FROM (\n",
    "            -- CROSS JOIN para cálculo de distâncias entre\n",
    "            -- todos os pontos dos datasets em uma mesma data\n",
    "            SELECT\n",
    "                *,\n",
    "                SQRT(POW(t_latitude - c_latitude, 2) + POW(t_longitude - c_longitude, 2)) AS distance\n",
    "            FROM tpr_data AS T\n",
    "            CROSS JOIN co2_data AS C\n",
    "            ON t_date = c_date\n",
    "        )\n",
    "    )\n",
    "    WHERE row_num = 1; -- Escolha dos registros com menor distância\n",
    "    \"\"\"\n",
    ")"
   ]
  },
  {
   "cell_type": "code",
   "execution_count": 13,
   "metadata": {},
   "outputs": [
    {
     "name": "stdout",
     "output_type": "stream",
     "text": [
      "+----------+-------------+-----------------+------+---------+----------+-----------+----------+----------+-----------+-----------------+-------------------+-------+\n",
      "|    t_date|t_temperature|t_temperature_unc|t_city|t_country|t_latitude|t_longitude|    c_date|c_latitude|c_longitude|            c_co2|           distance|row_num|\n",
      "+----------+-------------+-----------------+------+---------+----------+-----------+----------+----------+-----------+-----------------+-------------------+-------+\n",
      "|1850-01-01|       -5.265|             1.82| Århus|  Denmark|     57.05|      10.33|1850-01-01|        57|         10|285.5076904296875|0.33376619564095866|      1|\n",
      "|1850-02-01|        1.859|            1.641| Århus|  Denmark|     57.05|      10.33|1850-02-01|        57|         10|286.4536437988281|0.33376619564095866|      1|\n",
      "+----------+-------------+-----------------+------+---------+----------+-----------+----------+----------+-----------+-----------------+-------------------+-------+\n",
      "\n"
     ]
    }
   ],
   "source": [
    "cross_data.show(10)"
   ]
  },
  {
   "cell_type": "code",
   "execution_count": null,
   "metadata": {},
   "outputs": [],
   "source": []
  }
 ],
 "metadata": {
  "kernelspec": {
   "display_name": "Python 3.9.10 ('env': venv)",
   "language": "python",
   "name": "python3"
  },
  "language_info": {
   "codemirror_mode": {
    "name": "ipython",
    "version": 3
   },
   "file_extension": ".py",
   "mimetype": "text/x-python",
   "name": "python",
   "nbconvert_exporter": "python",
   "pygments_lexer": "ipython3",
   "version": "3.9.10"
  },
  "orig_nbformat": 4,
  "vscode": {
   "interpreter": {
    "hash": "07d19eb70bcfc2f0213fb2cc4f0e2b7647738b1a23b2bbd4e03e9ce97554aed1"
   }
  }
 },
 "nbformat": 4,
 "nbformat_minor": 2
}
