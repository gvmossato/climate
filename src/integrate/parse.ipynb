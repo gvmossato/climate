{
 "cells": [
  {
   "cell_type": "markdown",
   "metadata": {},
   "source": [
    "# Bibliotecas e Configurações\n",
    "\n",
    "1. Requer:\n",
    "    * `./data/GlobalLandTemperaturesByCity.csv` e resulta em `./out/parsed/tpr/~.csv`;\n",
    "    * `./data/co2_data.csv` (gerado com o `convert.ipynb`) e resulta em `./out/parsed/co2/~.csv`.\n",
    "\n",
    "<br />\n",
    "\n",
    "2. É necessário possuir o **Java SE Development Kit 11** (JDK) instalado;\n",
    "    * Outras versões apresentam problemas;\n",
    "    * Possivel baixar o `jdk-11.0.16` através desse *[link](https://gist.github.com/wavezhang/ba8425f24a968ec9b2a8619d7c2d86a6)*;\n",
    "    * Apenas dar `Crtl+F` em `jdk-11.0.16`, o site oficial requer *login*, então acho essa opção melhor.\n",
    "\n",
    "<br />\n",
    "\n",
    "3. Além disso, é necessário definir a variável de ambiente `JAVA_HOME` cujo valor é o diretório de instalação do JDK;\n",
    "    * Exemplo: `C:\\Progra~1\\Java\\jdk-11.0.16`;\n",
    "    * `Progra~1` é, na verdade, a pasta `Program Files`, mas escrita sem espaços, para evitar *bugs*.\n",
    "\n",
    "<br />\n",
    "\n",
    "4. Definir também as variáveis de ambiente:\n",
    "    * `PYSPARK_DRIVER_PYTHON` = `jupyter`;\n",
    "    * `PYSPARK_PYTHON` = `python`.\n",
    "\n",
    "<br />\n",
    "\n",
    "5. Além disso tudo para salvar arquivos é necessário o Spark + Hadoop;\n",
    "    1. Assim sendo, efetue o download da versão 3.2.2 do [Spark](https://spark.apache.org/downloads.html);\n",
    "    2. Extraia os arquivos para um diretório desejado do computador (local de instalação);\n",
    "    3. Dentro desse diretório de instalação do Spark crie o diretório do Haddop: `<spark_path>\\hadoop\\bin`;\n",
    "    4. Efetuar o download da versão 3.3.1 do [Hadoop](https://github.com/kontext-tech/winutils)\n",
    "        * Aqui existe uma gambiarra:\n",
    "            1. Baixar o repositório como ZIP;\n",
    "            2. Extrair todos os arquivos da respectiva versão na pasta `bin` recém criada;\n",
    "            3. Dentro dessa pasta `bin`, criar uma nova pasta `bin` e repetir o passo anterior.\n",
    "\n",
    "<br />\n",
    "\n",
    "6. Definir as variáveis de ambiente:\n",
    "    * `SPARK_HOME`: diretório de instalação do Spark;\n",
    "    * `HADOOP_HOME` = `%SPARK_HOME%\\hadoop\\bin`.\n",
    "\n",
    "<br />\n",
    "\n",
    "7. Adicionar os caminhos dessa variáveis (`SPARK_HOME` E `HADOOP_HOME`) ao Path;\n",
    "\n",
    "<br />\n",
    "\n",
    "8. Será necessário reiniciar o computador após definir as variáveis de ambiente e alterar o Path.\n",
    "    * Há abaixo uma verificação para atestar se é possível ler todas as variáveis necessárias."
   ]
  },
  {
   "cell_type": "code",
   "execution_count": 1,
   "metadata": {},
   "outputs": [],
   "source": [
    "import os\n",
    "\n",
    "environ_vars = [\n",
    "    'JAVA_HOME',\n",
    "    'PYSPARK_DRIVER_PYTHON',\n",
    "    'PYSPARK_PYTHON',\n",
    "    'SPARK_HOME',\n",
    "    'HADOOP_HOME'\n",
    "]\n",
    "\n",
    "for var in environ_vars:\n",
    "    if not os.environ.get(var):\n",
    "        print(f'AVISO: Variável {var} não encontrada.')"
   ]
  },
  {
   "cell_type": "code",
   "execution_count": 2,
   "metadata": {},
   "outputs": [],
   "source": [
    "from pyspark.sql import SparkSession\n",
    "from pyspark.sql.functions import expr"
   ]
  },
  {
   "cell_type": "markdown",
   "metadata": {},
   "source": [
    "# Leitura"
   ]
  },
  {
   "cell_type": "code",
   "execution_count": 3,
   "metadata": {},
   "outputs": [],
   "source": [
    "spark = SparkSession.builder.getOrCreate()\n",
    "\n",
    "tpr_data = spark.read.options(header='True').csv('./data/GlobalLandTemperaturesByCity.csv')\n",
    "co2_data = spark.read.options(header='True').csv('./data/co2_data.csv')"
   ]
  },
  {
   "cell_type": "code",
   "execution_count": 4,
   "metadata": {},
   "outputs": [
    {
     "name": "stdout",
     "output_type": "stream",
     "text": [
      "+----------+------------------+-----------------------------+-----+-------+--------+---------+\n",
      "|        dt|AverageTemperature|AverageTemperatureUncertainty| City|Country|Latitude|Longitude|\n",
      "+----------+------------------+-----------------------------+-----+-------+--------+---------+\n",
      "|1743-11-01|             6.068|           1.7369999999999999|Århus|Denmark|  57.05N|   10.33E|\n",
      "|1743-12-01|              null|                         null|Århus|Denmark|  57.05N|   10.33E|\n",
      "|1744-01-01|              null|                         null|Århus|Denmark|  57.05N|   10.33E|\n",
      "|1744-02-01|              null|                         null|Århus|Denmark|  57.05N|   10.33E|\n",
      "|1744-03-01|              null|                         null|Århus|Denmark|  57.05N|   10.33E|\n",
      "+----------+------------------+-----------------------------+-----+-------+--------+---------+\n",
      "only showing top 5 rows\n",
      "\n",
      "Número de registros: 8599212\n"
     ]
    }
   ],
   "source": [
    "tpr_data.show(5)\n",
    "\n",
    "print('Número de registros:', tpr_data.count())"
   ]
  },
  {
   "cell_type": "markdown",
   "metadata": {},
   "source": [
    "*Dataset* de temperaturas:\n",
    "\n",
    "* `dt` (string): mês referente à amostra;\n",
    "* `AverageTemperature` (float): temperatura média global;\n",
    "* `AverageTemperatureUncertainty` (float): incerteza associada à temperatura medida;\n",
    "* `City` (string): cidade de origem da amostra;\n",
    "* `Country` (string): país de origem da amostra;\n",
    "* `Latitude` (string): coordenadas de latitude em graus da amostra, com valor e ponto cardeal;\n",
    "* `Longitude` (string): coordenadas de longitude em graus da amostra, com valor e ponto cardeal;"
   ]
  },
  {
   "cell_type": "code",
   "execution_count": 5,
   "metadata": {},
   "outputs": [
    {
     "name": "stdout",
     "output_type": "stream",
     "text": [
      "+------+------+----------+---------+--------+------------------+\n",
      "|LonDim|LatDim|     Times|Longitude|Latitude|             value|\n",
      "+------+------+----------+---------+--------+------------------+\n",
      "|     0|     0|1850-01-01|   -179.5|    89.5| 288.1340637207031|\n",
      "|     0|     0|1850-02-01|   -179.5|    89.5|288.52105712890625|\n",
      "|     0|     0|1850-03-01|   -179.5|    89.5| 288.8883972167969|\n",
      "|     0|     0|1850-04-01|   -179.5|    89.5| 289.0948486328125|\n",
      "|     0|     0|1850-05-01|   -179.5|    89.5| 289.0404052734375|\n",
      "+------+------+----------+---------+--------+------------------+\n",
      "only showing top 5 rows\n",
      "\n",
      "Número de registros: 127526400\n"
     ]
    }
   ],
   "source": [
    "co2_data.show(5)\n",
    "\n",
    "print('Número de registros:', co2_data.count())"
   ]
  },
  {
   "cell_type": "markdown",
   "metadata": {},
   "source": [
    "*Dataset* de temperaturas:\n",
    "\n",
    "* `LatDim` (int): ?\n",
    "* `LonDim` (int): ?\n",
    "* `Times` (string): mês referente à amostra;\n",
    "* `Longitude` (float): graus de longitude com referência no Meridiano de Greenwich;\n",
    "* `Latitude` (float): graus de latitude com referência na Linha do Equador;\n",
    "* `value` (float): concentração de $CO_2$ em ppm;"
   ]
  },
  {
   "cell_type": "markdown",
   "metadata": {},
   "source": [
    "# Tratamento\n",
    "\n",
    "Separado entre temperaturas e gás carbônico."
   ]
  },
  {
   "cell_type": "markdown",
   "metadata": {},
   "source": [
    "## Temperatura\n",
    "\n",
    "* Define uma mesma data de início para ambos os datasets"
   ]
  },
  {
   "cell_type": "code",
   "execution_count": 6,
   "metadata": {},
   "outputs": [],
   "source": [
    "tpr_data = tpr_data[tpr_data['dt'] >= '1850-01-01']"
   ]
  },
  {
   "cell_type": "markdown",
   "metadata": {},
   "source": [
    "* Padroniza nomes de colunas entre os datasets (prefixa aquelas em comum)"
   ]
  },
  {
   "cell_type": "code",
   "execution_count": 7,
   "metadata": {},
   "outputs": [],
   "source": [
    "columns_rename = [\n",
    "    ('dt', 't_date'),\n",
    "    ('AverageTemperature', 'tpr'),\n",
    "    ('AverageTemperatureUncertainty', 'tpr_unc'),\n",
    "    ('City', 'city'),\n",
    "    ('Country', 'country'),\n",
    "    ('Longitude', 't_lon'),\n",
    "    ('Latitude', 't_lat'),\n",
    "]\n",
    "\n",
    "for old, new in columns_rename:\n",
    "    tpr_data = tpr_data.withColumnRenamed(old, new)"
   ]
  },
  {
   "cell_type": "markdown",
   "metadata": {},
   "source": [
    "* Trata coordenadas:\n",
    "    1. Extrai ponto cardeal para um coluna prórpia;\n",
    "    2. Remove ponto cardeal do valor da coordenada e a converte para `float`.\n",
    "    3. Aplica a lógica de valores negativos e positivos consoante ponto cardeal\n",
    "    4. Remove colunas desncessárias"
   ]
  },
  {
   "cell_type": "code",
   "execution_count": 8,
   "metadata": {},
   "outputs": [],
   "source": [
    "# Trata coordenadas\n",
    "\n",
    "geoposition_cols = ['t_lon', 't_lat']\n",
    "\n",
    "for c in geoposition_cols:\n",
    "    tpr_data = tpr_data.withColumn(\n",
    "        c + '_cardinal',\n",
    "        expr(f\"RIGHT({c}, 1)\")\n",
    "    )\n",
    "\n",
    "    tpr_data = tpr_data.withColumn(\n",
    "        c,\n",
    "        expr(f\"FLOAT( LEFT({c}, LENGTH({c})-1) )\")\n",
    "    )"
   ]
  },
  {
   "cell_type": "code",
   "execution_count": 9,
   "metadata": {},
   "outputs": [],
   "source": [
    "tpr_data = tpr_data.withColumn(\n",
    "    't_lon',\n",
    "    expr(\n",
    "        \"\"\"\n",
    "        CASE\n",
    "            WHEN t_lon_cardinal = 'E' THEN  t_lon\n",
    "            WHEN t_lon_cardinal = 'W' THEN -t_lon\n",
    "            ELSE NULL\n",
    "        END\n",
    "        \"\"\"\n",
    "    )\n",
    ")\n",
    "\n",
    "tpr_data = tpr_data.withColumn(\n",
    "    't_lat',\n",
    "    expr(\n",
    "        \"\"\"\n",
    "        CASE\n",
    "            WHEN t_lat_cardinal = 'N' THEN  t_lat\n",
    "            WHEN t_lat_cardinal = 'S' THEN -t_lat\n",
    "            ELSE NULL\n",
    "        END\n",
    "        \"\"\"\n",
    "    )\n",
    ")"
   ]
  },
  {
   "cell_type": "code",
   "execution_count": 10,
   "metadata": {},
   "outputs": [],
   "source": [
    "cols_to_drop = ['t_lon_cardinal', 't_lat_cardinal']\n",
    "\n",
    "for c in cols_to_drop:\n",
    "    tpr_data = tpr_data.drop(c)"
   ]
  },
  {
   "cell_type": "markdown",
   "metadata": {},
   "source": [
    "## Gás Carbônico\n",
    "\n",
    "* Padroniza nomes de colunas entre os datasets (prefixa aquelas em comum)\n",
    "* Remove colunas não utilizadas"
   ]
  },
  {
   "cell_type": "code",
   "execution_count": 11,
   "metadata": {},
   "outputs": [],
   "source": [
    "columns_rename = [\n",
    "    ('Times', 'c_date'),\n",
    "    ('Longitude', 'c_lon'),\n",
    "    ('Latitude', 'c_lat'),\n",
    "    ('value', 'co2'),\n",
    "]\n",
    "\n",
    "for old, new in columns_rename:\n",
    "    co2_data = co2_data.withColumnRenamed(old, new)"
   ]
  },
  {
   "cell_type": "code",
   "execution_count": 12,
   "metadata": {},
   "outputs": [],
   "source": [
    "cols_to_drop = ['LonDim', 'LatDim']\n",
    "\n",
    "for c in cols_to_drop:\n",
    "    co2_data = co2_data.drop(c)"
   ]
  },
  {
   "cell_type": "markdown",
   "metadata": {},
   "source": [
    "# Exportação"
   ]
  },
  {
   "cell_type": "code",
   "execution_count": 13,
   "metadata": {},
   "outputs": [
    {
     "name": "stdout",
     "output_type": "stream",
     "text": [
      "+----------+--------------------+-------+-----+-------+-----+-----+\n",
      "|    t_date|                 tpr|tpr_unc| city|country|t_lat|t_lon|\n",
      "+----------+--------------------+-------+-----+-------+-----+-----+\n",
      "|1850-01-01|              -5.265|   1.82|Århus|Denmark|57.05|10.33|\n",
      "|1850-02-01|               1.859|  1.641|Århus|Denmark|57.05|10.33|\n",
      "|1850-03-01|0.031999999999999806|  3.167|Århus|Denmark|57.05|10.33|\n",
      "|1850-04-01|  5.7639999999999985|  1.903|Århus|Denmark|57.05|10.33|\n",
      "|1850-05-01|              11.037|  0.586|Århus|Denmark|57.05|10.33|\n",
      "+----------+--------------------+-------+-----+-------+-----+-----+\n",
      "only showing top 5 rows\n",
      "\n"
     ]
    }
   ],
   "source": [
    "tpr_data.show(5)"
   ]
  },
  {
   "cell_type": "code",
   "execution_count": 14,
   "metadata": {},
   "outputs": [
    {
     "name": "stdout",
     "output_type": "stream",
     "text": [
      "+----------+------+-----+------------------+\n",
      "|    c_date| c_lon|c_lat|               co2|\n",
      "+----------+------+-----+------------------+\n",
      "|1850-01-01|-179.5| 89.5| 288.1340637207031|\n",
      "|1850-02-01|-179.5| 89.5|288.52105712890625|\n",
      "|1850-03-01|-179.5| 89.5| 288.8883972167969|\n",
      "|1850-04-01|-179.5| 89.5| 289.0948486328125|\n",
      "|1850-05-01|-179.5| 89.5| 289.0404052734375|\n",
      "+----------+------+-----+------------------+\n",
      "only showing top 5 rows\n",
      "\n"
     ]
    }
   ],
   "source": [
    "co2_data.show(5)"
   ]
  },
  {
   "cell_type": "markdown",
   "metadata": {},
   "source": [
    "Escrita dos datasets parseados, descomentar se necessário. \n",
    "\n",
    "* **Temperatura:** aproximadamente 30 segundos de execução e 400 MB de saída;\n",
    "* **Gás carbônico:** aproximadamente 6 minutos de execução e 5 GB de saída;"
   ]
  },
  {
   "cell_type": "code",
   "execution_count": 15,
   "metadata": {},
   "outputs": [],
   "source": [
    "# tpr_data.coalesce(1).write.format('csv').option('header', True).mode('overwrite').save('./out/parsed/tpr')"
   ]
  },
  {
   "cell_type": "code",
   "execution_count": 16,
   "metadata": {},
   "outputs": [],
   "source": [
    "# co2_data.coalesce(1).write.format('csv').option('header', True).mode('overwrite').save('./out/parsed/co2')"
   ]
  },
  {
   "cell_type": "code",
   "execution_count": null,
   "metadata": {},
   "outputs": [],
   "source": []
  }
 ],
 "metadata": {
  "kernelspec": {
   "display_name": "Python 3.9.10 ('env': venv)",
   "language": "python",
   "name": "python3"
  },
  "language_info": {
   "codemirror_mode": {
    "name": "ipython",
    "version": 3
   },
   "file_extension": ".py",
   "mimetype": "text/x-python",
   "name": "python",
   "nbconvert_exporter": "python",
   "pygments_lexer": "ipython3",
   "version": "3.9.10"
  },
  "orig_nbformat": 4,
  "vscode": {
   "interpreter": {
    "hash": "07d19eb70bcfc2f0213fb2cc4f0e2b7647738b1a23b2bbd4e03e9ce97554aed1"
   }
  }
 },
 "nbformat": 4,
 "nbformat_minor": 2
}
